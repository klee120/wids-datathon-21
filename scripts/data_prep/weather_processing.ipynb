{
 "metadata": {
  "language_info": {
   "codemirror_mode": {
    "name": "ipython",
    "version": 3
   },
   "file_extension": ".py",
   "mimetype": "text/x-python",
   "name": "python",
   "nbconvert_exporter": "python",
   "pygments_lexer": "ipython3",
   "version": "3.8.5"
  },
  "orig_nbformat": 2,
  "kernelspec": {
   "name": "python385jvsc74a57bd0440ddc40ce1ea5b7d812e676738aa761b40cee91dfe30bfb635ab152ed1141ac",
   "display_name": "Python 3.8.5 64-bit ('base': conda)"
  }
 },
 "nbformat": 4,
 "nbformat_minor": 2,
 "cells": [
  {
   "cell_type": "code",
   "execution_count": 3,
   "metadata": {},
   "outputs": [
    {
     "output_type": "stream",
     "name": "stdout",
     "text": [
      "Requirement already up-to-date: pandas in c:\\users\\katie\\anaconda3\\lib\\site-packages (1.2.4)\nRequirement already satisfied, skipping upgrade: numpy>=1.16.5 in c:\\users\\katie\\anaconda3\\lib\\site-packages (from pandas) (1.19.2)\nRequirement already satisfied, skipping upgrade: python-dateutil>=2.7.3 in c:\\users\\katie\\anaconda3\\lib\\site-packages (from pandas) (2.8.1)\nRequirement already satisfied, skipping upgrade: pytz>=2017.3 in c:\\users\\katie\\anaconda3\\lib\\site-packages (from pandas) (2020.1)\nRequirement already satisfied, skipping upgrade: six>=1.5 in c:\\users\\katie\\appdata\\roaming\\python\\python38\\site-packages (from python-dateutil>=2.7.3->pandas) (1.15.0)\nNote: you may need to restart the kernel to use updated packages.\n"
     ]
    }
   ],
   "source": [
    "pip install --upgrade pandas"
   ]
  },
  {
   "cell_type": "code",
   "execution_count": null,
   "metadata": {},
   "outputs": [],
   "source": []
  }
 ]
}